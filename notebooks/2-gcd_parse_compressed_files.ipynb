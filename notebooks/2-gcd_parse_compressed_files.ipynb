{
 "cells": [
  {
   "cell_type": "markdown",
   "metadata": {},
   "source": [
    "Parse Wiki articles while streaming from disk using the Simple API for XML."
   ]
  },
  {
   "cell_type": "code",
   "execution_count": null,
   "metadata": {},
   "outputs": [],
   "source": [
    "!pip install mwparserfromhell"
   ]
  },
  {
   "cell_type": "code",
   "execution_count": null,
   "metadata": {},
   "outputs": [],
   "source": [
    "import re\n",
    "import dill\n",
    "import xml.sax\n",
    "import subprocess\n",
    "import mwparserfromhell\n",
    "import pandas as pd\n",
    "import sqlite3 as sql\n",
    "from bs4 import BeautifulSoup\n",
    "from tqdm import tqdm\n",
    "from multiprocessing import Pool"
   ]
  },
  {
   "cell_type": "code",
   "execution_count": null,
   "metadata": {},
   "outputs": [],
   "source": [
    "def dump_dill(fname, obj):\n",
    "    with open(fname, 'wb') as f:\n",
    "        dill.dump(obj, f)\n",
    "    return None\n",
    "\n",
    "def load_dill(fname):\n",
    "    with open(fname, 'rb') as f:\n",
    "        return dill.load(f)"
   ]
  },
  {
   "cell_type": "code",
   "execution_count": null,
   "metadata": {},
   "outputs": [],
   "source": [
    "class WikiXmlHandler(xml.sax.handler.ContentHandler):\n",
    "    \"\"\"Content handler for Wiki XML data using SAX\"\"\"\n",
    "    def __init__(self):\n",
    "        xml.sax.handler.ContentHandler.__init__(self)\n",
    "        self._buffer = None\n",
    "        self._values = {}\n",
    "        self._current_tag = None\n",
    "        self._pages = []\n",
    "\n",
    "    def characters(self, content):\n",
    "        \"\"\"Characters between opening and closing tags\"\"\"\n",
    "        if self._current_tag:\n",
    "            self._buffer.append(content)\n",
    "\n",
    "    def startElement(self, name, attrs):\n",
    "        \"\"\"Opening tag of element\"\"\"\n",
    "        if name in ('title', 'text'):\n",
    "            self._current_tag = name\n",
    "            self._buffer = []\n",
    "\n",
    "    def endElement(self, name):\n",
    "        \"\"\"Closing tag of element\"\"\"\n",
    "        if name == self._current_tag:\n",
    "            self._values[name] = ' '.join(self._buffer)\n",
    "\n",
    "        if name == 'page':\n",
    "            self._pages.append((self._values['title'], self._values['text']))"
   ]
  },
  {
   "cell_type": "code",
   "execution_count": null,
   "metadata": {},
   "outputs": [],
   "source": [
    "local_db = '''/Data/samples/wiki/enwiki_articles_20200520.db'''"
   ]
  },
  {
   "cell_type": "code",
   "execution_count": null,
   "metadata": {},
   "outputs": [],
   "source": [
    "file_paths = load_dill('../input/file_paths.dill')"
   ]
  },
  {
   "cell_type": "code",
   "execution_count": null,
   "metadata": {
    "scrolled": true
   },
   "outputs": [],
   "source": [
    "file_paths"
   ]
  },
  {
   "cell_type": "code",
   "execution_count": null,
   "metadata": {},
   "outputs": [],
   "source": [
    "len(file_paths)"
   ]
  },
  {
   "cell_type": "code",
   "execution_count": null,
   "metadata": {
    "scrolled": true
   },
   "outputs": [],
   "source": [
    "with sql.connect(local_db) as local_conn:\n",
    "\n",
    "    for path in file_paths:\n",
    "        print(path)\n",
    "        # Create an instance of the handler class\n",
    "        handler = WikiXmlHandler()\n",
    "\n",
    "        # Parsing object\n",
    "        parser = xml.sax.make_parser()\n",
    "\n",
    "        # Tell the parser to use the custom handler instance\n",
    "        parser.setContentHandler(handler)\n",
    "\n",
    "        for i, line in enumerate(subprocess.Popen(['bzcat'], \n",
    "                                         stdin = open(path), \n",
    "                                         stdout = subprocess.PIPE).stdout):\n",
    "            parser.feed(line)\n",
    "\n",
    "        title_list = [None] * len(handler._pages)\n",
    "        text_list = [None] * len(handler._pages)\n",
    "        category_list = [None] * len(handler._pages)\n",
    "\n",
    "        for i, article in enumerate(tqdm(handler._pages)):\n",
    "            text = mwparserfromhell.parse(article[1]).strip_code().strip()\n",
    "            if text.split(' ')[0] =='REDIRECT': continue\n",
    "            text = text.replace('|', ' ').replace('\\n', ' ')\n",
    "#             category_list[i] = re.findall(r'Category:([a-zA-Z-]+)',text)\n",
    "            text = re.sub(r'\\<([^>]+)\\>','', text)\n",
    "            text = re.sub(r'http\\S+','', text)\n",
    "            text = text.split('== See also ==')[0] # remove references and everything afterwards\n",
    "            text = re.sub('=|\\*|\"','', text)\n",
    "\n",
    "            title_list[i] = re.sub(\"([a-z])([A-Z])\",\"\\g<1> \\g<2>\",article[0])\n",
    "            text_list[i] = text\n",
    "\n",
    "        article_df = pd.DataFrame({'title': title_list, 'text': text_list})\n",
    "        article_df.dropna().reset_index(drop=True).to_sql('articles', local_conn, if_exists='append', index=False)"
   ]
  },
  {
   "cell_type": "code",
   "execution_count": null,
   "metadata": {},
   "outputs": [],
   "source": []
  }
 ],
 "metadata": {
  "kernelspec": {
   "display_name": "Python [conda env:.conda-wiki_topics]",
   "language": "python",
   "name": "conda-env-.conda-wiki_topics-py"
  },
  "language_info": {
   "codemirror_mode": {
    "name": "ipython",
    "version": 3
   },
   "file_extension": ".py",
   "mimetype": "text/x-python",
   "name": "python",
   "nbconvert_exporter": "python",
   "pygments_lexer": "ipython3",
   "version": "3.7.0"
  }
 },
 "nbformat": 4,
 "nbformat_minor": 2
}
